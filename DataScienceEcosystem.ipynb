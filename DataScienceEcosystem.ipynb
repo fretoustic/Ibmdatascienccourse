{
 "cells": [
  {
   "cell_type": "markdown",
   "id": "db112871-ff4a-4241-8596-73facc6f8f32",
   "metadata": {},
   "source": [
    "# Data Science Tools and Ecosystem"
   ]
  },
  {
   "cell_type": "markdown",
   "id": "af1c016e-0429-4566-bc27-9357cadc162a",
   "metadata": {},
   "source": [
    "In this notebook, Data Science Tools and Ecosystem are summarized."
   ]
  },
  {
   "cell_type": "markdown",
   "id": "37858e78-ede9-4a29-aa9d-aed48888cf17",
   "metadata": {},
   "source": [
    "Some of the popular languages that Data Scientists use are:\n",
    "1. Python\n",
    "2. R\n",
    "3. Java"
   ]
  },
  {
   "cell_type": "markdown",
   "id": "0e8626f2-7e47-4293-b5d4-37dfad917cf4",
   "metadata": {},
   "source": [
    "Some of the commonly used libraries used by Data Scientists include:\n",
    "1. Pandas\n",
    "2. Numpy\n",
    "3. Seaborn"
   ]
  },
  {
   "cell_type": "markdown",
   "id": "f36c73ce-0bfb-4524-83e2-83fc37ed5e20",
   "metadata": {},
   "source": [
    "| Data Science Tools |\n",
    "| -------------------|\n",
    "| R Labs|\n",
    "| Jupyter |\n",
    "| VS Code |"
   ]
  },
  {
   "cell_type": "markdown",
   "id": "d6b8fdd2-596e-4b37-a425-52c1c5b87d63",
   "metadata": {},
   "source": [
    "### Below are a few examples of evaluating arithmetic expressions in Python"
   ]
  },
  {
   "cell_type": "code",
   "execution_count": 1,
   "id": "b7bcfeb9-b133-4d4d-afdc-5e6927fd104c",
   "metadata": {},
   "outputs": [
    {
     "data": {
      "text/plain": [
       "17"
      ]
     },
     "execution_count": 1,
     "metadata": {},
     "output_type": "execute_result"
    }
   ],
   "source": [
    "#This a simple arithmetic expression to mutiply then add integers\n",
    "(3*4)+5"
   ]
  },
  {
   "cell_type": "code",
   "execution_count": 2,
   "id": "6ff5e89c-582e-4a2a-88a7-80b6fb64b45d",
   "metadata": {},
   "outputs": [
    {
     "data": {
      "text/plain": [
       "3.3333333333333335"
      ]
     },
     "execution_count": 2,
     "metadata": {},
     "output_type": "execute_result"
    }
   ],
   "source": [
    "#This will convert 200 minutes to hours by diving by 60\n",
    "minutes = 200\n",
    "hours = minutes / 60\n",
    "hours"
   ]
  },
  {
   "cell_type": "markdown",
   "id": "69964190-343f-4c9a-8d1d-c6db2d49e161",
   "metadata": {},
   "source": [
    "<b>Objectives</b>\n",
    "* Creating Headings in markdown cells\n",
    "* Creating ordered and unordered lists\n",
    "* Creating tables\n",
    "* Basic Arithmetic operations"
   ]
  },
  {
   "cell_type": "markdown",
   "id": "573b271b-00a9-4e30-961d-8d14686a439d",
   "metadata": {},
   "source": [
    "## Author\n",
    "Harsh Preet Singh"
   ]
  },
  {
   "cell_type": "code",
   "execution_count": null,
   "id": "72d6d302-2b89-4d38-85c6-6b2a3edd6d77",
   "metadata": {},
   "outputs": [],
   "source": []
  }
 ],
 "metadata": {
  "kernelspec": {
   "display_name": "Python 3 (ipykernel)",
   "language": "python",
   "name": "python3"
  },
  "language_info": {
   "codemirror_mode": {
    "name": "ipython",
    "version": 3
   },
   "file_extension": ".py",
   "mimetype": "text/x-python",
   "name": "python",
   "nbconvert_exporter": "python",
   "pygments_lexer": "ipython3",
   "version": "3.11.7"
  }
 },
 "nbformat": 4,
 "nbformat_minor": 5
}
